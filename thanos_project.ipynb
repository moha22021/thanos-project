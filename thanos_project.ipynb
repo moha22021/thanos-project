{
 "cells": [
  {
   "cell_type": "markdown",
   "id": "018479e9-2d65-4b3a-a878-1cb9e78ebdf3",
   "metadata": {},
   "source": [
    "# 🌌 Thanos Project 🌌"
   ]
  },
  {
   "cell_type": "markdown",
   "id": "69769c71-fad1-4d14-bfd3-b7daed98c213",
   "metadata": {},
   "source": [
    " ### 📚 Important Libraries"
   ]
  },
  {
   "cell_type": "code",
   "execution_count": 66,
   "id": "2223150b-c8ec-4106-9c06-e0384458f8ca",
   "metadata": {},
   "outputs": [],
   "source": [
    "import shutil  # Shuttil library is specialized in performing operations on files and folders.\n",
    "import os # The os library in Python provides tools for interacting with the OS .\n",
    "import random , string"
   ]
  },
  {
   "cell_type": "markdown",
   "id": "2d817a02-272f-406e-90a2-2548bd222e8e",
   "metadata": {},
   "source": [
    "#### 1. Make a copy of the population in the backup folder."
   ]
  },
  {
   "cell_type": "code",
   "execution_count": 114,
   "id": "9f688a16-d7ac-4dab-91c5-e57f644fde28",
   "metadata": {},
   "outputs": [],
   "source": [
    "def population_backup ( universe_folder , backup_folder ) :\n",
    "    os.makedirs(backup_folder , exist_ok=True)\n",
    "    for file_name in os.listdir (universe_folder) :\n",
    "        file_path= os.path.join( universe_folder , file_name )\n",
    "        if os.path.isfile(file_path):\n",
    "            shutil.copy(file_path , backup_folder)"
   ]
  },
  {
   "cell_type": "markdown",
   "id": "ae25e89a-11fb-4f5a-ac6e-38766e9adae6",
   "metadata": {},
   "source": [
    "#### 2. Make a function to kill half the population randomly:\n"
   ]
  },
  {
   "cell_type": "code",
   "execution_count": 81,
   "id": "15a3e94d-3aa5-499d-8e25-7d7c04cd4ec0",
   "metadata": {},
   "outputs": [],
   "source": [
    "def file_half_killer (universe_folder) :\n",
    "    files = os.listdir(universe_folder)\n",
    "    if len(files) <=1 :\n",
    "        if files :\n",
    "            os.remove( os.path.join(universe_folder , files[0]))\n",
    "        return\n",
    "\n",
    "    half_files= random.sample (files , len(files)//2)\n",
    "    for file in half_files :\n",
    "        os.remove(os.path.join(universe_folder,file))\n",
    "    return\n"
   ]
  },
  {
   "cell_type": "markdown",
   "id": "5542217a-f889-455f-9e2d-56f613264896",
   "metadata": {},
   "source": [
    "#### 4. Import the population again to the universe folder from the backup folder:"
   ]
  },
  {
   "cell_type": "code",
   "execution_count": 61,
   "id": "38291606-ae23-4534-8798-2bfee608ab76",
   "metadata": {},
   "outputs": [],
   "source": [
    "def restore_population ( universe_folder , backup_folder ) :\n",
    "    if  os.listdir(universe_folder):\n",
    "        return\n",
    "    for file in os.listdir(backup_folder) :\n",
    "        file_path = os.path.join(backup_folder,file)\n",
    "        if os.path.isfile(file_path) :\n",
    "            shutil.copy(file_path , universe_folder)"
   ]
  },
  {
   "cell_type": "markdown",
   "id": "fdd25a88-16b0-4914-a4d9-84bbac2ef771",
   "metadata": {},
   "source": [
    "#### 5. Extra Point: Create another folder and take a copy from the population with different random names:"
   ]
  },
  {
   "cell_type": "code",
   "execution_count": 217,
   "id": "3aee4433-0247-474f-8fd5-a0f680c6f234",
   "metadata": {},
   "outputs": [],
   "source": [
    "def generate_random_name(r_name_folder, random_length):\n",
    "    flag = 3 # To avoid the problem of duplicate names and set a limit if all random names are exhausted\n",
    "    while flag >0:\n",
    "        random_name = ''.join(random.choices(string.ascii_letters + string.digits, k=random.randint(1, random_length)))\n",
    "        flag-=1\n",
    "        if random_name not in os.listdir(r_name_folder):\n",
    "            return random_name \n",
    "    \n",
    "\n",
    "def create_folder_with_random_names ( universe_folder , r_name_folder , random_length) :\n",
    "    os.makedirs(r_name_folder , exist_ok=True)\n",
    "    for file in os.listdir(universe_folder) :\n",
    "        file_path= os.path.join(universe_folder , file)\n",
    "        if os.path.isfile(file_path) :\n",
    "            new_file_name = generate_random_name (r_name_folder , random_length)\n",
    "            shutil.copy(file_path , os.path.join(r_name_folder , new_file_name))\n",
    "            \n"
   ]
  },
  {
   "cell_type": "markdown",
   "id": "f707595e-4ca4-4b62-aa6a-cd03b9f0c19f",
   "metadata": {},
   "source": [
    "### 📝 Testing the `population_backup` Function\n"
   ]
  },
  {
   "cell_type": "code",
   "execution_count": 65,
   "id": "dbcf33e2-3c16-48b2-b561-42fe00c63e17",
   "metadata": {},
   "outputs": [],
   "source": [
    "population_backup ( 'universe' , 'backup')"
   ]
  },
  {
   "cell_type": "markdown",
   "id": "2e5360f2-f505-40d9-92ed-e2c85857cd99",
   "metadata": {},
   "source": [
    "## 🔪 Function: `file_half_killer`\n",
    "\n",
    "#### 📋 Description\n",
    "2. Make a function to kill half the population randomly.\n"
   ]
  },
  {
   "cell_type": "code",
   "execution_count": 132,
   "id": "f0a64438-00fe-4c49-aa84-9c17d68e01a2",
   "metadata": {},
   "outputs": [],
   "source": [
    "file_half_killer('universe')"
   ]
  },
  {
   "cell_type": "markdown",
   "id": "6e1563e9-ad0e-4e1c-a4f1-eefa3d9822f2",
   "metadata": {},
   "source": [
    "#### 3- call the func several times to kill the entire 🔪🔪🔪 \n"
   ]
  },
  {
   "cell_type": "code",
   "execution_count": 67,
   "id": "0c2c3245-45e1-4e9e-8ccf-f1d726487491",
   "metadata": {},
   "outputs": [],
   "source": [
    "while os.listdir('universe')  : \n",
    "    file_half_killer('universe')"
   ]
  },
  {
   "cell_type": "markdown",
   "id": "5bb89ba1-31e6-4e2f-869e-de73cbeb4de8",
   "metadata": {},
   "source": [
    "## 🔄 Function: `restore_population`\n",
    "\n",
    "#### 📋 Description\n",
    "4. Import the population again to the universe folder from the backup folder.\n"
   ]
  },
  {
   "cell_type": "code",
   "execution_count": 69,
   "id": "6c4c2c22-47a5-4b21-bbaa-1205604dd561",
   "metadata": {},
   "outputs": [],
   "source": [
    "restore_population( 'universe' , 'backup')"
   ]
  },
  {
   "cell_type": "markdown",
   "id": "22e90ed7-395b-4840-98ca-767e89576f93",
   "metadata": {},
   "source": [
    "## 🌟 Function: `copy_with_random_names`\n",
    "\n",
    "#### 📋 Description\n",
    "5. Create another folder and take a copy from the population with different random names.\n"
   ]
  },
  {
   "cell_type": "code",
   "execution_count": 73,
   "id": "a0edaf2a-cad8-4ae2-83a9-8e8b8b5f9b33",
   "metadata": {},
   "outputs": [],
   "source": [
    "\n",
    "# create_folder_with_random_names ( universe_folder , r_name_folder , random_length) :\n",
    "# universe_folder : Source Folder\n",
    "# r_name_folder : Target Folder\n",
    "# random_length : length of  random new file name \n",
    "\n",
    "create_folder_with_random_names ( 'universe'  , 'random_folde' , 8)"
   ]
  }
 ],
 "metadata": {
  "kernelspec": {
   "display_name": "Python 3 (ipykernel)",
   "language": "python",
   "name": "python3"
  },
  "language_info": {
   "codemirror_mode": {
    "name": "ipython",
    "version": 3
   },
   "file_extension": ".py",
   "mimetype": "text/x-python",
   "name": "python",
   "nbconvert_exporter": "python",
   "pygments_lexer": "ipython3",
   "version": "3.12.4"
  }
 },
 "nbformat": 4,
 "nbformat_minor": 5
}
